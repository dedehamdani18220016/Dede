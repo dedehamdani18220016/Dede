{
  "nbformat": 4,
  "nbformat_minor": 0,
  "metadata": {
    "colab": {
      "name": "Welcome To Colaboratory",
      "version": "0.3.2",
      "provenance": [],
      "collapsed_sections": [],
      "toc_visible": true,
      "include_colab_link": true
    },
    "kernelspec": {
      "name": "python3",
      "display_name": "Python 3"
    },
    "accelerator": "GPU"
  },
  "cells": [
    {
      "cell_type": "markdown",
      "metadata": {
        "id": "view-in-github",
        "colab_type": "text"
      },
      "source": [
        "<a href=\"https://colab.research.google.com/github/dedehamdani18220016/Dede/blob/master/Tugas%20Responsi%20Pemrograman%202.ipynb\" target=\"_parent\"><img src=\"https://colab.research.google.com/assets/colab-badge.svg\" alt=\"Open In Colab\"/></a>"
      ]
    },
    {
      "metadata": {
        "id": "3SLpr0sRXHCg",
        "colab_type": "text"
      },
      "cell_type": "markdown",
      "source": [
        "#Dede Hamdani 18220016"
      ]
    },
    {
      "metadata": {
        "id": "-UbDkAo7XNyn",
        "colab_type": "code",
        "colab": {
          "base_uri": "https://localhost:8080/",
          "height": 102
        },
        "outputId": "e4baee1c-b984-4a07-a954-f4787bdbbd5e"
      },
      "cell_type": "code",
      "source": [
        "#@title For\n",
        "n = 6\n",
        "s = 0\n",
        "for i in range (1, n):\n",
        "    for j in range (0,s):\n",
        "        print(' ', end=' ')\n",
        "    s += 1\n",
        "    for j in range(1,n):\n",
        "        k = i-2 +j+1\n",
        "        print(k+s-1, end=' ')\n",
        "    for j in range(1,s):\n",
        "        i += 1\n",
        "    n -= 1\n",
        "    print()"
      ],
      "execution_count": 1,
      "outputs": [
        {
          "output_type": "stream",
          "text": [
            "1 2 3 4 5 \n",
            "  3 4 5 6 \n",
            "    5 6 7 \n",
            "      7 8 \n",
            "        9 \n"
          ],
          "name": "stdout"
        }
      ]
    },
    {
      "metadata": {
        "id": "QgX8X1TQXPra",
        "colab_type": "code",
        "colab": {
          "base_uri": "https://localhost:8080/",
          "height": 102
        },
        "outputId": "0a55063a-7356-448e-9f2f-85d3cc466792"
      },
      "cell_type": "code",
      "source": [
        "#@title While\n",
        "a = 6\n",
        "b = 0\n",
        "for i in range(1, a):\n",
        "  for j in range(0, b):\n",
        "    print(' ', end=' ')\n",
        "  b += 1\n",
        "  if i % 2 == 1:\n",
        "    for j in range(1, a):\n",
        "      c = i - 3 + j + 1\n",
        "      print(c+b-1, end=' ')\n",
        "  else:\n",
        "    for j in range(1, a):\n",
        "      c = i - 2 + j + 1\n",
        "      print(c, end=' ')\n",
        "      i += 1\n",
        "  for j in range(1, b):\n",
        "    i += 1\n",
        "  a -= 1\n",
        "  print()"
      ],
      "execution_count": 114,
      "outputs": [
        {
          "output_type": "stream",
          "text": [
            "0 1 2 3 4 \n",
            "  2 4 6 8 \n",
            "    4 5 6 \n",
            "      4 6 \n",
            "        8 \n"
          ],
          "name": "stdout"
        }
      ]
    },
    {
      "metadata": {
        "id": "c-7m8kT5oClG",
        "colab_type": "code",
        "colab": {
          "base_uri": "https://localhost:8080/",
          "height": 34
        },
        "outputId": "befbc1e5-3e8e-4a9a-f756-7bf79f76dd62"
      },
      "cell_type": "code",
      "source": [
        "#@title Jumlah1\n",
        "def jumlah1(n):\n",
        "  if n == 1:\n",
        "    return 1\n",
        "  else:\n",
        "    return n + jumlah(n - 1)\n",
        "  \n",
        "  \n",
        "print(jumlah1(5))"
      ],
      "execution_count": 115,
      "outputs": [
        {
          "output_type": "stream",
          "text": [
            "15\n"
          ],
          "name": "stdout"
        }
      ]
    },
    {
      "metadata": {
        "id": "78g5SNYdq9DN",
        "colab_type": "code",
        "colab": {
          "base_uri": "https://localhost:8080/",
          "height": 34
        },
        "outputId": "ff88eb5f-49f3-49db-d2bf-2e84506afe73"
      },
      "cell_type": "code",
      "source": [
        "#@title Faktorial\n",
        "def faktorial(n):\n",
        "  if n == 1:\n",
        "    return 1\n",
        "  else:\n",
        "    return n * faktorial(n - 1)\n",
        "  \n",
        "  \n",
        "print(faktorial(5))"
      ],
      "execution_count": 116,
      "outputs": [
        {
          "output_type": "stream",
          "text": [
            "120\n"
          ],
          "name": "stdout"
        }
      ]
    },
    {
      "metadata": {
        "id": "DoIVlpPorkXq",
        "colab_type": "code",
        "colab": {
          "base_uri": "https://localhost:8080/",
          "height": 34
        },
        "outputId": "285fc548-9442-4764-8eb8-4c9b439cddec"
      },
      "cell_type": "code",
      "source": [
        "#@title Pangkat\n",
        "def pangkat(n):\n",
        "  if n == 1:\n",
        "    return 2\n",
        "  else:\n",
        "    return 2 * pangkat(n - 1)\n",
        "  \n",
        "  \n",
        "print(pangkat(5))"
      ],
      "execution_count": 117,
      "outputs": [
        {
          "output_type": "stream",
          "text": [
            "32\n"
          ],
          "name": "stdout"
        }
      ]
    },
    {
      "metadata": {
        "id": "vmnftSrrs6Ay",
        "colab_type": "code",
        "colab": {
          "base_uri": "https://localhost:8080/",
          "height": 34
        },
        "outputId": "9ce7fbdc-d0a4-4b79-e415-c5121c89dc42"
      },
      "cell_type": "code",
      "source": [
        "#@title Jumlah2\n",
        "def jumlah2(n):\n",
        "  if n == 1:\n",
        "    return 1\n",
        "  else:\n",
        "    return jumlah(n - 1) + jumlah(n - 2)\n",
        "  \n",
        "  \n",
        "print(jumlah2(6))"
      ],
      "execution_count": 118,
      "outputs": [
        {
          "output_type": "stream",
          "text": [
            "25\n"
          ],
          "name": "stdout"
        }
      ]
    }
  ]
}