{
  "nbformat": 4,
  "nbformat_minor": 0,
  "metadata": {
    "colab": {
      "name": "DEDE HAMDANI 18220016",
      "version": "0.3.2",
      "provenance": [],
      "collapsed_sections": [],
      "toc_visible": true,
      "include_colab_link": true
    },
    "kernelspec": {
      "name": "python3",
      "display_name": "Python 3"
    },
    "accelerator": "GPU"
  },
  "cells": [
    {
      "cell_type": "markdown",
      "metadata": {
        "id": "view-in-github",
        "colab_type": "text"
      },
      "source": [
        "<a href=\"https://colab.research.google.com/github/dedehamdani18220016/Dede/blob/master/DEDE_HAMDANI_18220016.ipynb\" target=\"_parent\"><img src=\"https://colab.research.google.com/assets/colab-badge.svg\" alt=\"Open In Colab\"/></a>"
      ]
    },
    {
      "metadata": {
        "id": "3SLpr0sRXHCg",
        "colab_type": "text"
      },
      "cell_type": "markdown",
      "source": [
        "#Dede Hamdani 18220016"
      ]
    },
    {
      "metadata": {
        "id": "-UbDkAo7XNyn",
        "colab_type": "code",
        "outputId": "f0275813-3073-4087-ac28-d4ff375b0680",
        "colab": {
          "base_uri": "https://localhost:8080/",
          "height": 119
        }
      },
      "cell_type": "code",
      "source": [
        "#@title For\n",
        "print('No.1', 'For')\n",
        "\n",
        "n = 6\n",
        "s = 0\n",
        "for i in range (1, n):\n",
        "    for j in range (0,s):\n",
        "        print(' ', end=' ')\n",
        "    s += 1\n",
        "    for j in range(1,n):\n",
        "        k = i-2 +j+1\n",
        "        print(k+s-1, end=' ')\n",
        "    for j in range(1,s):\n",
        "        i += 1\n",
        "    n -= 1\n",
        "    print()"
      ],
      "execution_count": 0,
      "outputs": [
        {
          "output_type": "stream",
          "text": [
            "No.1 For\n",
            "1 2 3 4 5 \n",
            "  3 4 5 6 \n",
            "    5 6 7 \n",
            "      7 8 \n",
            "        9 \n"
          ],
          "name": "stdout"
        }
      ]
    },
    {
      "metadata": {
        "id": "QgX8X1TQXPra",
        "colab_type": "code",
        "outputId": "489beba6-3a74-4191-e5fa-1f94a9fd8504",
        "colab": {
          "base_uri": "https://localhost:8080/",
          "height": 136
        }
      },
      "cell_type": "code",
      "source": [
        "#@title While\n",
        "print('No.2', 'While')\n",
        "\n",
        "a = 5\n",
        "i = 0\n",
        "\n",
        "while i < 10:\n",
        "  b = i\n",
        "  while b > 0:\n",
        "    print(end=' ')\n",
        "    b -=2\n",
        "  if( i % 2 == 0):\n",
        "    c = i\n",
        "    j = 1\n",
        "    while j <= a:\n",
        "      print(c, end=' ')\n",
        "      if( i == 2 ):\n",
        "          c += 2\n",
        "      elif( i == 6):\n",
        "          c += 2\n",
        "      else:\n",
        "          c += 1\n",
        "      j += 1\n",
        "    print()\n",
        "    a -= 1\n",
        "  i += 1"
      ],
      "execution_count": 0,
      "outputs": [
        {
          "output_type": "stream",
          "text": [
            "No.2 While\n",
            "0 1 2 3 4 \n",
            "  2 4 6 8 \n",
            "    4 5 6 \n",
            "      6 8 \n",
            "        8 \n",
            "     "
          ],
          "name": "stdout"
        }
      ]
    },
    {
      "metadata": {
        "id": "c-7m8kT5oClG",
        "colab_type": "code",
        "outputId": "ef310eff-77e1-42f1-c1bb-2b2b0666b530",
        "colab": {
          "base_uri": "https://localhost:8080/",
          "height": 51
        }
      },
      "cell_type": "code",
      "source": [
        "#@title Jumlah1\n",
        "print('No.3', 'Jumlah1')\n",
        "\n",
        "def jumlah(n):\n",
        "  if n == 1:\n",
        "    return 1\n",
        "  else:\n",
        "    return n + jumlah(n - 1)\n",
        "  \n",
        "  \n",
        "print(jumlah(5))"
      ],
      "execution_count": 0,
      "outputs": [
        {
          "output_type": "stream",
          "text": [
            "No.3 Jumlah1\n",
            "15\n"
          ],
          "name": "stdout"
        }
      ]
    },
    {
      "metadata": {
        "id": "78g5SNYdq9DN",
        "colab_type": "code",
        "outputId": "cd3bc8d2-83fa-41e0-ab65-b20842f713af",
        "colab": {
          "base_uri": "https://localhost:8080/",
          "height": 51
        }
      },
      "cell_type": "code",
      "source": [
        "#@title Faktorial\n",
        "print('No.3', 'Faktorial')\n",
        "\n",
        "def faktorial(n):\n",
        "  if n == 1:\n",
        "    return 1\n",
        "  else:\n",
        "    return n * faktorial(n - 1)\n",
        "  \n",
        "  \n",
        "print(faktorial(5))"
      ],
      "execution_count": 0,
      "outputs": [
        {
          "output_type": "stream",
          "text": [
            "No.3 Faktorial\n",
            "120\n"
          ],
          "name": "stdout"
        }
      ]
    },
    {
      "metadata": {
        "id": "DoIVlpPorkXq",
        "colab_type": "code",
        "outputId": "8c8fbc62-1986-4131-bacc-281410752447",
        "colab": {
          "base_uri": "https://localhost:8080/",
          "height": 51
        }
      },
      "cell_type": "code",
      "source": [
        "#@title Pangkat\n",
        "print('No.3', 'Pangkat')\n",
        "\n",
        "def pangkat(n):\n",
        "  if n == 1:\n",
        "    return 2\n",
        "  else:\n",
        "    return 2 * pangkat(n - 1)\n",
        "  \n",
        "  \n",
        "print(pangkat(5))"
      ],
      "execution_count": 0,
      "outputs": [
        {
          "output_type": "stream",
          "text": [
            "No.3 Pangkat\n",
            "32\n"
          ],
          "name": "stdout"
        }
      ]
    },
    {
      "metadata": {
        "id": "vmnftSrrs6Ay",
        "colab_type": "code",
        "outputId": "c303c389-635a-4a0b-d959-303b80e2762d",
        "colab": {
          "base_uri": "https://localhost:8080/",
          "height": 51
        }
      },
      "cell_type": "code",
      "source": [
        "#@title Jumlah2\n",
        "print('No.3', 'Jumlah2')\n",
        "\n",
        "def jumlah2(n):\n",
        "  if n == 1:\n",
        "    return 1\n",
        "  else:\n",
        "    return jumlah(n - 1) + jumlah(n - 2)\n",
        "  \n",
        "  \n",
        "print(jumlah2(6))"
      ],
      "execution_count": 0,
      "outputs": [
        {
          "output_type": "stream",
          "text": [
            "No.3 Jumlah2\n",
            "25\n"
          ],
          "name": "stdout"
        }
      ]
    }
  ]
}